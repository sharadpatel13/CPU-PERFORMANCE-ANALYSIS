{
 "cells": [
  {
   "cell_type": "code",
   "execution_count": 8,
   "id": "631e905c",
   "metadata": {},
   "outputs": [],
   "source": [
    "import psutil   #importing python system and process utility"
   ]
  },
  {
   "cell_type": "code",
   "execution_count": 9,
   "id": "d1ddb9e5",
   "metadata": {},
   "outputs": [],
   "source": [
    "import time"
   ]
  },
  {
   "cell_type": "code",
   "execution_count": 10,
   "id": "5827d850",
   "metadata": {},
   "outputs": [],
   "source": [
    "import pyodbc"
   ]
  },
  {
   "cell_type": "code",
   "execution_count": 11,
   "id": "b3d24b9f",
   "metadata": {},
   "outputs": [
    {
     "name": "stdout",
     "output_type": "stream",
     "text": [
      "Connected successfully!\n"
     ]
    }
   ],
   "source": [
    "SERVER = 'LAPTOP-0756840D\\SQLEXPRESS'\n",
    "DATABASE = 'SYSTEM_INFROMATION'\n",
    "\n",
    "# Use Windows Authentication (Trusted_Connection=yes)\n",
    "connection_string = f'DRIVER={{ODBC Driver 17 for SQL Server}};SERVER={SERVER};DATABASE={DATABASE};Trusted_Connection=yes'\n",
    "\n",
    "try:\n",
    "    conn = pyodbc.connect(connection_string)\n",
    "    print(\"Connected successfully!\")\n",
    "except pyodbc.Error as e:\n",
    "    print(f\"Error: {e}\")"
   ]
  },
  {
   "cell_type": "code",
   "execution_count": 12,
   "id": "768400d9",
   "metadata": {},
   "outputs": [],
   "source": [
    "cursor=conn.cursor()   #creating a cursor"
   ]
  },
  {
   "cell_type": "code",
   "execution_count": 13,
   "id": "b002b52e",
   "metadata": {},
   "outputs": [
    {
     "name": "stdout",
     "output_type": "stream",
     "text": [
      "95.4\n",
      "95.5\n",
      "95.8\n",
      "96.3\n",
      "95.7\n",
      "95.2\n",
      "95.3\n",
      "95.4\n",
      "96.0\n",
      "95.9\n",
      "95.7\n",
      "95.7\n",
      "95.8\n",
      "95.8\n",
      "95.9\n",
      "95.1\n",
      "92.5\n",
      "92.7\n",
      "91.9\n",
      "92.0\n",
      "92.0\n",
      "92.1\n",
      "92.2\n",
      "92.2\n",
      "92.4\n",
      "92.4\n",
      "92.6\n",
      "92.8\n",
      "92.8\n",
      "93.0\n",
      "92.7\n",
      "92.7\n",
      "92.8\n",
      "92.7\n",
      "92.9\n",
      "93.9\n",
      "94.0\n",
      "94.0\n",
      "94.1\n",
      "94.0\n",
      "94.1\n",
      "94.2\n",
      "94.4\n",
      "94.5\n",
      "94.8\n",
      "94.8\n",
      "94.9\n",
      "95.0\n",
      "94.8\n",
      "96.0\n",
      "95.2\n",
      "95.3\n",
      "95.4\n",
      "95.8\n",
      "95.7\n",
      "95.7\n",
      "95.8\n",
      "96.7\n",
      "95.4\n"
     ]
    },
    {
     "ename": "KeyboardInterrupt",
     "evalue": "",
     "output_type": "error",
     "traceback": [
      "\u001b[1;31m---------------------------------------------------------------------------\u001b[0m",
      "\u001b[1;31mKeyboardInterrupt\u001b[0m                         Traceback (most recent call last)",
      "Cell \u001b[1;32mIn[13], line 29\u001b[0m\n\u001b[0;32m     27\u001b[0m conn\u001b[38;5;241m.\u001b[39mcommit()  \u001b[38;5;66;03m#to finalise the insert command and made the sql database accessible\u001b[39;00m\n\u001b[0;32m     28\u001b[0m \u001b[38;5;28mprint\u001b[39m(memory_usage)\n\u001b[1;32m---> 29\u001b[0m time\u001b[38;5;241m.\u001b[39msleep(\u001b[38;5;241m1\u001b[39m)\n",
      "\u001b[1;31mKeyboardInterrupt\u001b[0m: "
     ]
    }
   ],
   "source": [
    "while 1==1:    #never ending loop\n",
    "    cpu_usage = psutil.cpu_percent()\n",
    "    memory_usage=psutil.virtual_memory()[2]  \n",
    "    \n",
    "    cpu_interrupts=psutil.cpu_stats()[1]\n",
    "    cpu_calls=psutil.cpu_stats()[3]\n",
    "    \n",
    "    memory_used=psutil.virtual_memory()[3]\n",
    "    memory_free=psutil.virtual_memory()[4]\n",
    "    \n",
    "    bytes_sent=psutil.net_io_counters()[0]\n",
    "    bytes_received=psutil.net_io_counters()[1]\n",
    "    \n",
    "    disk_usage=psutil.disk_usage('/')[3]\n",
    "    \n",
    "    cursor.execute('insert into Performance values (GETDATE(),'\n",
    "                   + str(cpu_usage)+','\n",
    "                   + str(memory_usage)+','\n",
    "                   + str(cpu_interrupts)+','\n",
    "                   + str(cpu_calls)+','\n",
    "                   + str(memory_used)+','\n",
    "                   + str(memory_free)+','\n",
    "                   + str(bytes_sent)+','\n",
    "                   + str(bytes_received)+','\n",
    "                   + str(disk_usage)+')'\n",
    "                  )\n",
    "    conn.commit()  #to finalise the insert command and made the sql database accessible\n",
    "    print(memory_usage)\n",
    "    time.sleep(1)   #giving a one second break in our loop "
   ]
  },
  {
   "cell_type": "code",
   "execution_count": null,
   "id": "dacc4536",
   "metadata": {},
   "outputs": [],
   "source": []
  }
 ],
 "metadata": {
  "kernelspec": {
   "display_name": "Python 3 (ipykernel)",
   "language": "python",
   "name": "python3"
  },
  "language_info": {
   "codemirror_mode": {
    "name": "ipython",
    "version": 3
   },
   "file_extension": ".py",
   "mimetype": "text/x-python",
   "name": "python",
   "nbconvert_exporter": "python",
   "pygments_lexer": "ipython3",
   "version": "3.11.3"
  }
 },
 "nbformat": 4,
 "nbformat_minor": 5
}
